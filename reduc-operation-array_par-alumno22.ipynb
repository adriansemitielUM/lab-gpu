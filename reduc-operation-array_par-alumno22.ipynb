{
 "cells": [
  {
   "cell_type": "markdown",
   "id": "f942d288-be01-42cd-9b84-83529c6769be",
   "metadata": {},
   "source": [
    "## Reduction operation: the sum of the numbers in the range [0, value)"
   ]
  },
  {
   "cell_type": "code",
   "execution_count": 3,
   "id": "496946fa-2a28-4c1d-8a6a-2ee0b8fd8ced",
   "metadata": {},
   "outputs": [
    {
     "name": "stdout",
     "output_type": "stream",
     "text": [
      "Time taken by reduction operation using a function: 46.8 ms ± 43.5 µs per loop (mean ± std. dev. of 2 runs, 10 loops each)\n",
      "And the result of the sum of numbers in the range [0, value) is: 24961.09920301303\n",
      "\n",
      "Time taken by reduction operation using numpy.sum(): 98 µs ± 884 ns per loop (mean ± std. dev. of 2 runs, 10,000 loops each)\n",
      "Now, the result using numpy.sum(): 24961.099203013076 \n",
      " \n",
      "Time taken by reduction operation using numpy.ndarray.sum(): 74.2 µs ± 171 ns per loop (mean ± std. dev. of 2 runs, 10,000 loops each)\n",
      "Now, the result using numpy.ndarray.sum(): 24961.099203013076\n"
     ]
    }
   ],
   "source": [
    "import numpy as np\n",
    "import sys\n",
    "\n",
    "def reduc_operation(A):\n",
    "    \"\"\"Compute the sum of the elements of Array A in the range [0, value).\"\"\"\n",
    "    s = 0\n",
    "    for i in range(A.size):\n",
    "        s += A[i]\n",
    "    return s\n",
    "\n",
    "# Secuencial\n",
    "\n",
    "value = int(sys.argv[1])\n",
    "\n",
    "X = np.random.rand(value)\n",
    "\n",
    "# Para imprimir los pimeros valores del array\n",
    "\n",
    "# print(X[0:12])\n",
    "\n",
    "# Utilizando las operaciones mágicas de ipython\n",
    "\n",
    "tiempo = %timeit -r 2 -o -q reduc_operation(X)\n",
    "\n",
    "print(\"Time taken by reduction operation using a function:\", tiempo)\n",
    "\n",
    "\n",
    "print(f\"And the result of the sum of numbers in the range [0, value) is: {reduc_operation(X)}\\n\")\n",
    "\n",
    "\n",
    "# Utilizando numpy.sum()\n",
    "\n",
    "tiempo = %timeit -r 2 -o -q np.sum(X)\n",
    "\n",
    "print(\"Time taken by reduction operation using numpy.sum():\", tiempo)\n",
    "\n",
    "print(\"Now, the result using numpy.sum():\", np.sum(X),\"\\n \")\n",
    "\n",
    "\n",
    "# Utilizando numpy.ndarray.sum()\n",
    "\n",
    "tiempo= %timeit -r 2 -o -q X.sum()\n",
    "\n",
    "print(\"Time taken by reduction operation using numpy.ndarray.sum():\", tiempo)\n",
    "\n",
    "print(\"Now, the result using numpy.ndarray.sum():\", X.sum())\n",
    "\n",
    "\n"
   ]
  },
  {
   "cell_type": "markdown",
   "id": "fa7b5170-ce76-4086-a9c5-6330b5b984b4",
   "metadata": {},
   "source": [
    "### 3.2. Python HPC: Paralelismo con multiprocessing y Numba"
   ]
  },
  {
   "cell_type": "markdown",
   "id": "918853c2-7a5e-4df2-9828-dd2d5ea541f6",
   "metadata": {},
   "source": [
    "##### EJERCICIO A"
   ]
  },
  {
   "cell_type": "markdown",
   "id": "a416a463-ce83-4aea-9378-eb87c9a9e409",
   "metadata": {},
   "source": [
    "La ejecución secuencial no aprovecha múltiples núcleos de la CPU. Para arrays de mayor tamaño, esto puede ser lento. Con este ejercicio lo que se está haciendo es paralelizar la operación de reducción dividiendo el array en subarrays y procesándolos en paralelo gracias a la introducción de la librería multiprocessing.\n",
    "\n",
    "Primero tendremos que usar el bojeto Pool de esta librería para poder gestionar varios procesos y dividir así el trabajo.\n",
    "Luego tendremos que dividir el array original en subarrays de distintos tamaños.\n",
    "Por último, aplicamos la función reduc_operation."
   ]
  },
  {
   "cell_type": "code",
   "execution_count": 4,
   "id": "6b52e6f1-3b20-461e-a5a9-db56be3f1bbf",
   "metadata": {},
   "outputs": [
    {
     "name": "stdout",
     "output_type": "stream",
     "text": [
      "El tiempo con un solo proceso es: 50.2 ms ± 220 µs per loop (mean ± std. dev. of 2 runs, 10 loops each)\n",
      "El tiempo con dos procesos es: 29.4 ms ± 101 µs per loop (mean ± std. dev. of 2 runs, 10 loops each)\n",
      "El tiempo con cuatro procesos es: 31.9 ms ± 1.68 ms per loop (mean ± std. dev. of 2 runs, 10 loops each)\n"
     ]
    }
   ],
   "source": [
    "# Importamos Pool de la librería multiprocessing\n",
    "from multiprocessing import Pool\n",
    "\n",
    "# Establecemos el main para asegurar que el código dentro de este bloque solo se ejecute cuando el script se ejectua directamente\n",
    "if __name__ == \"__main__\":\n",
    "    \n",
    "    # Con un solo proceso: tamaño del array original de [0, value]\n",
    "    with Pool(1) as pool:\n",
    "        t1 = %timeit -r 2 -o -q pool.map(reduc_operation, [X])\n",
    "        print(\"El tiempo con un solo proceso es:\", t1)\n",
    "        \n",
    "    # Con dos procesos: 2 arrays de tamaños [0, int(value/2)] y [int(value/2), value]\n",
    "    with Pool(2) as pool:\n",
    "        s_array2 = [X[0:int(value/2)], X[int(value/2):value]]\n",
    "        t2 = %timeit -r 2 -o -q pool.map(reduc_operation, s_array2)\n",
    "        print(\"El tiempo con dos procesos es:\", t2)\n",
    "              \n",
    "    # Con cuatro procesos: 4 arrays de tamaños [0, int(value/4)], [int(value/4), int(value/2)], [int(value/2), int(3*value/4)] y [int(3*value/4), value]\n",
    "    with Pool(4) as pool:\n",
    "        s_array4 = [\n",
    "            X[0:int(value/4)],\n",
    "            X[int(value/4):int(value/2)],\n",
    "            X[int(value/2):int(3*value/4)],\n",
    "            X[int(3*value/4):value]\n",
    "        ]\n",
    "\n",
    "        t3 = %timeit -r 2 -o -q pool.map(reduc_operation, s_array4)\n",
    "        print(\"El tiempo con cuatro procesos es:\", t3)\n"
   ]
  },
  {
   "cell_type": "markdown",
   "id": "e7094ad2-e280-4567-9e46-3a7b55f858cb",
   "metadata": {},
   "source": [
    "Cuando el array es pequeño, como en este caso con 50,000 elementos, el tiempo extra que el programa necesita para dividir el trabajo, crear más procesos, coordinarlos y juntar los resultados (overhead) puede ser mayor que el beneficio de usar más procesos. Por eso, con 2 procesos es más eficiente, ya que se logra un buen balance entre dividir el trabajo y minimizar ese tiempo adicional. Usar 4 procesos añade más overhead, lo que termina siendo menos eficiente. Aunque luego veremos, cuando corramos el programa con el gestor de colas, que esto puede variar."
   ]
  },
  {
   "cell_type": "markdown",
   "id": "691ff66e-8002-457f-b798-426c45717a4a",
   "metadata": {},
   "source": [
    "##### EJERCICIO B"
   ]
  },
  {
   "cell_type": "markdown",
   "id": "d345b0b3-7da2-47d6-9f32-a1cc4f6039f1",
   "metadata": {},
   "source": [
    "- @njit es un decorador de Numba que básicamente transforma una función de Python en código de máquina altamente optimizado. Esto quiere decir que la función se compila la primera vez que se llama, eliminando la sobrecarga de interpretación de Python.\n",
    "\n",
    "- prange es una versión paralelizada de range, que está diseñada para poder trabajar con el @njit. Permite dividir un bucle entre múltiples núcleos de la CPU, haciendo que las iteraciones se ejecuten simultáneamente.\n",
    "\n",
    "Con este ejercicio lo que estamos haciendo es optimizar la función reduc_operation usando Numba y paralelismo. Numba va a compilar la función directamente en código de máquina mediante @njit y prange va a dividir automáticamente el bucle entre los núcleos disponibles."
   ]
  },
  {
   "cell_type": "code",
   "execution_count": 5,
   "id": "a1d1baa5-4ca5-4220-a715-96dc9125e5e3",
   "metadata": {},
   "outputs": [
    {
     "name": "stdout",
     "output_type": "stream",
     "text": [
      "Tiempo que usa la función original: 74.2 µs ± 171 ns per loop (mean ± std. dev. of 2 runs, 10,000 loops each)\n",
      "Tiempo que usa la función con el decorador njit: 214 µs ± 4.71 µs per loop (mean ± std. dev. of 2 runs, 1 loop each)\n",
      "Tiempo que usa la función con el decorador njit y paralelizada: 41.2 ms ± 1.56 ms per loop (mean ± std. dev. of 2 runs, 1 loop each)\n"
     ]
    }
   ],
   "source": [
    "# Importamos primero las librerías\n",
    "import numpy as np\n",
    "from numba import njit, prange\n",
    "\n",
    "# Versión optimizada con @njit\n",
    "@njit\n",
    "def reduc_operation_njit(A):\n",
    "    \"Función de reducción optimizada con @njit\"\n",
    "    s = 0\n",
    "    for i in range(A.size):\n",
    "        s += A[i]\n",
    "    return s\n",
    "\n",
    "# Versión paralela con @njit(parallel=True)\n",
    "@njit(parallel=True)\n",
    "def reduc_operation_njit_prange(A):\n",
    "    \"\"\"Función de reducción optimizada yu paralelizada con @njit y prange\"\"\"\n",
    "    s = 0\n",
    "    for i in prange(A.size):  # prange para paralelismo\n",
    "        s += A[i]\n",
    "    return s\n",
    "\n",
    "\n",
    "# Comparamos los tiempos\n",
    "tiempo_o = %timeit -r 2 -o -q reduc_operation(X)\n",
    "print(\"Tiempo que usa la función original:\", tiempo)\n",
    "tiempo_njit = %timeit -r 2 -o -q reduc_operation_njit(X)\n",
    "print(\"Tiempo que usa la función con el decorador njit:\", tiempo_njit)\n",
    "tiempo_njit_p = %timeit -r 2 -o -q reduc_operation_njit_prange(X)\n",
    "print(\"Tiempo que usa la función con el decorador njit y paralelizada:\", tiempo_njit_p)"
   ]
  },
  {
   "cell_type": "markdown",
   "id": "ac02c732-3bc2-4922-b94a-4b78f1b6f6c5",
   "metadata": {},
   "source": [
    "##### EJERCICIO C"
   ]
  },
  {
   "cell_type": "markdown",
   "id": "4299622b-63e7-427b-b46d-48893757eed2",
   "metadata": {},
   "source": [
    "El ejercicio C consiste en realizar el shell script para ejecutar el programa con sbatch.\n",
    "Se ha añadido a GitHub."
   ]
  },
  {
   "cell_type": "markdown",
   "id": "d274389a-09ee-42c6-a8b6-d7d87ab3b941",
   "metadata": {},
   "source": [
    "##### EJERCICIO D"
   ]
  },
  {
   "cell_type": "markdown",
   "id": "ca889ea2-8506-4aa6-9a8e-9d3795aeae99",
   "metadata": {},
   "source": [
    "###### Resultados de la ejecución del script de jupyter en la cola pascal:"
   ]
  },
  {
   "cell_type": "markdown",
   "id": "48791078-4a67-4976-8930-1b9ae3cfe836",
   "metadata": {},
   "source": [
    "Ejecutando el notebook de jupyter con 50000000 elementos\n",
    "\n",
    "Time taken by reduction operation using a function: 45.4 s ± 74.6 ms per loop (mean ± std. dev. of 2 runs, 1 loop each)\n",
    "And the result of the sum of numbers in the range [0, value) is: 25000257.207552828\n",
    "\n",
    "Time taken by reduction operation using numpy.sum(): 60.1 ms ± 199 µs per loop (mean ± std. dev. of 2 runs, 10 loops each)\n",
    "Now, the result using numpy.sum(): 25000257.207554013\n",
    "\n",
    "Time taken by reduction operation using numpy.ndarray.sum(): 60.3 ms ± 345 µs per loop (mean ± std. dev. of 2 runs, 10 loops each)\n",
    "Now, the result using numpy.ndarray.sum(): 25000257.207554013\n",
    "\n",
    "El tiempo con un solo proceso es: 48 s ± 5.77 ms per loop (mean ± std. dev. of 2 runs, 1 loop each)\n",
    "\n",
    "El tiempo con dos procesos es: 25.7 s ± 25.3 ms per loop (mean ± std. dev. of 2 runs, 1 loop each)\n",
    "\n",
    "El tiempo con cuatro procesos es: 13.3 s ± 1.04 ms per loop (mean ± std. dev. of 2 runs, 1 loop each)\n",
    "\n",
    "\n",
    "Tiempo que usa la función original: 60.3 ms ± 345 µs per loop (mean ± std. dev. of 2 runs, 10 loops each)\n",
    "\n",
    "Tiempo que usa la función con el decorador njit: 207 ms ± 44.8 µs per loop (mean ± std. dev. of 2 runs, 1 loop each)\n",
    "\n",
    "Tiempo que usa la función con el decorador njit y paralelizada: 17.9 ms ± 5.11 ms per loop (mean ± std. dev. of 2 runs, 1 loop each)\n"
   ]
  },
  {
   "cell_type": "markdown",
   "id": "348aa7fc-2830-42cd-a28d-a44828a2b5f1",
   "metadata": {},
   "source": [
    "##### Conclusiones"
   ]
  },
  {
   "cell_type": "markdown",
   "id": "06e56648-5a54-45a4-8bc4-4091fe34dc68",
   "metadata": {},
   "source": [
    "Cuando se usa el paquete multiprocessing, se observa una reducción significativa del tiempo a medida que se aumenta el número de procesos. Por ejemplo, al duplicar el número de procesos de 2 a 4, el tiempo se reduce aproximadamente a la mitad. Esto demuestra que multiprocessing es eficiente al dividir el trabajo en múltiples procesos, aunque con el costo de un overhead asociado a la creación y gestión de dichos procesos. Esto lo hace útil, pero no necesariamente óptimo para tareas que requieren alto grado de paralelismo.\n",
    "\n",
    "Por otro lado, con el decorador njit de Numba, el tiempo de ejecución disminuye drásticamente, pasando de segundos a milisegundos. Esto se debe a que Numba compila la función directamente en código máquina, eliminando la sobrecarga del intérprete de Python. Además, al usar njit(parallel=True), el tiempo de ejecución se reduce aún más, logrando una mejora aproximada de 12 veces en comparación con la versión secuencial optimizada con njit. Esto demuestra cómo Numba puede aprovechar múltiples núcleos de la CPU de manera eficiente y acelerar significativamente tareas intensivas en cálculos.\n",
    "\n",
    "En conclusión, aunque multiprocessing ofrece beneficios al dividir tareas en múltiples procesos, Numba resulta ser una solución más eficiente al optimizar directamente el código y habilitar el paralelismo. Para operaciones numéricas intensivas y grandes volúmenes de datos, Numba con paralelismo es una excelente opción en sistemas sin GPU."
   ]
  },
  {
   "cell_type": "code",
   "execution_count": null,
   "id": "9a2c6202-a6b9-4164-b029-8bbae79fba18",
   "metadata": {},
   "outputs": [],
   "source": []
  }
 ],
 "metadata": {
  "kernelspec": {
   "display_name": "Python 3 (ipykernel)",
   "language": "python",
   "name": "python3"
  },
  "language_info": {
   "codemirror_mode": {
    "name": "ipython",
    "version": 3
   },
   "file_extension": ".py",
   "mimetype": "text/x-python",
   "name": "python",
   "nbconvert_exporter": "python",
   "pygments_lexer": "ipython3",
   "version": "3.10.9"
  }
 },
 "nbformat": 4,
 "nbformat_minor": 5
}
