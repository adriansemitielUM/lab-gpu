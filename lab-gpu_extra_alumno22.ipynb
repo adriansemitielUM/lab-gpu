{
 "cells": [
  {
   "cell_type": "markdown",
   "id": "a4377732-63f8-4d04-9786-83f70237b532",
   "metadata": {},
   "source": [
    "## Opción 1"
   ]
  },
  {
   "cell_type": "code",
   "execution_count": 5,
   "id": "b6bd11dc-9ee8-459f-b168-3f88ee4b1d0a",
   "metadata": {},
   "outputs": [
    {
     "name": "stdout",
     "output_type": "stream",
     "text": [
      "Tiempo utilizando un proceso: 0.63894 segundos\n",
      "Tiempo utilizando dos procesos: 0.41882 segundos\n",
      "Tiempo utilizando cuatro procesos: 0.39817 segundos\n"
     ]
    }
   ],
   "source": [
    "from multiprocessing import Pool\n",
    "import numpy as np\n",
    "\n",
    "# Modificamos la función de reducción para incluir los parámetros ini y fin\n",
    "def sum_multiprocessing(A, ini, fin):\n",
    "    \"\"\"Calcula la suma de los elementos del array A en el rango [ini, fin).\"\"\"\n",
    "    return sum(A[ini:fin])\n",
    "\n",
    "if __name__ == \"__main__\":\n",
    "    # Tamaño del array y generación de datos aleatorios\n",
    "    value = 10_000_000\n",
    "    X = np.random.random(value)\n",
    "    \n",
    "    # Caso 1: Usando un solo proceso\n",
    "    with Pool(1) as p:\n",
    "        tiempo1 = %timeit -r 2 -o -q p.starmap(sum_multiprocessing, [(X, 0, value)])\n",
    "        print(f\"Tiempo utilizando un proceso: {tiempo1.best:.5f} segundos\")\n",
    "    \n",
    "    # Caso 2: Usando dos procesos\n",
    "    with Pool(2) as p:\n",
    "        iterable = [\n",
    "            (X, 0, value // 2), \n",
    "            (X, value // 2, value)\n",
    "        ]\n",
    "        tiempo2 = %timeit -r 2 -o -q p.starmap(sum_multiprocessing, iterable)\n",
    "        print(f\"Tiempo utilizando dos procesos: {tiempo2.best:.5f} segundos\")\n",
    "    \n",
    "    # Caso 3: Usando cuatro procesos\n",
    "    with Pool(4) as p:\n",
    "        iterable = [\n",
    "            (X, 0, value // 4), \n",
    "            (X, value // 4, value // 2),\n",
    "            (X, value // 2, 3 * value // 4), \n",
    "            (X, 3 * value // 4, value)\n",
    "        ]\n",
    "        tiempo4 = %timeit -r 2 -o -q p.starmap(sum_multiprocessing, iterable)\n",
    "        print(f\"Tiempo utilizando cuatro procesos: {tiempo4.best:.5f} segundos\")\n"
   ]
  },
  {
   "cell_type": "markdown",
   "id": "a547b63d-e03b-4979-ae95-b02210f14bf4",
   "metadata": {},
   "source": [
    "#### Resultados en hpc-bio-pascal:"
   ]
  },
  {
   "cell_type": "markdown",
   "id": "80fc15f5-42c1-40ae-bb10-28308bebfb2a",
   "metadata": {},
   "source": [
    "Ejecutando el notebook con 50000000 elementos\n",
    "Time taken by reduction operation using a function: 44.8 s ± 16.9 ms per loop (m\n",
    "ean ± std. dev. of 2 runs, 1 loop each)\n",
    "And the result of the sum of numbers in the range [0, value) is: 24998564.598627\n",
    "73\n",
    "\n",
    "Time taken by reduction operation using numpy.sum(): 59.1 ms ± 121 µs per loop (\n",
    "mean ± std. dev. of 2 runs, 10 loops each)\n",
    "Now, the result using numpy.sum(): 24998564.598626237\n",
    "\n",
    "Time taken by reduction operation using numpy.ndarray.sum(): 60 ms ± 952 µs per\n",
    "loop (mean ± std. dev. of 2 runs, 10 loops each)\n",
    "Now, the result using numpy.ndarray.sum(): 24998564.598626237\n",
    "Tiempo con 1 proceso: 33.636868 segundos\n",
    "Tiempo con 2 procesos: 18.706067 segundos\n",
    "Tiempo con 4 procesos: 12.031207 segundos\n"
   ]
  },
  {
   "cell_type": "markdown",
   "id": "22f0e0e7-a36d-497a-9eb4-5cce18371085",
   "metadata": {},
   "source": [
    "Al usar el paquete multiprocessing, el tiempo de ejecución disminuye considerablemente al aumentar el número de procesos, reduciéndose casi a la mitad al duplicar los procesos. Por ejemplo, con 1 proceso el tiempo fue de 33.637 segundos, con 2 procesos bajó a 18.706 segundos, y con 4 procesos se redujo a 12.031 segundos. Esto demuestra lo eficiente que puede ser dividir la carga de trabajo entre varios núcleos."
   ]
  },
  {
   "cell_type": "code",
   "execution_count": null,
   "id": "00a049b0-d3c8-4c9b-b77a-30ef11bea964",
   "metadata": {},
   "outputs": [],
   "source": []
  }
 ],
 "metadata": {
  "kernelspec": {
   "display_name": "Python 3 (ipykernel)",
   "language": "python",
   "name": "python3"
  },
  "language_info": {
   "codemirror_mode": {
    "name": "ipython",
    "version": 3
   },
   "file_extension": ".py",
   "mimetype": "text/x-python",
   "name": "python",
   "nbconvert_exporter": "python",
   "pygments_lexer": "ipython3",
   "version": "3.8.17"
  }
 },
 "nbformat": 4,
 "nbformat_minor": 5
}
